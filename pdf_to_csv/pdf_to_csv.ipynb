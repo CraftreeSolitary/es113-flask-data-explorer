{
 "cells": [
  {
   "cell_type": "markdown",
   "metadata": {},
   "source": [
    "# Converting the pdf files to csv"
   ]
  },
  {
   "cell_type": "markdown",
   "metadata": {},
   "source": [
    "### Importing the necessary libraries"
   ]
  },
  {
   "cell_type": "code",
   "execution_count": 32,
   "metadata": {},
   "outputs": [],
   "source": [
    "import fitz\n",
    "import pandas as pd"
   ]
  },
  {
   "cell_type": "markdown",
   "metadata": {},
   "source": [
    "### using fitz to open the two given pdfs"
   ]
  },
  {
   "cell_type": "code",
   "execution_count": 33,
   "metadata": {},
   "outputs": [],
   "source": [
    "purchase_details_doc = fitz.open('EB_Purchase_Details.pdf')\n",
    "redemption_details_doc = fitz.open('EB_Redemption_Details.pdf')"
   ]
  },
  {
   "cell_type": "markdown",
   "metadata": {},
   "source": [
    "### creating an empty dataframe to store the data from the tables in the two pdfs"
   ]
  },
  {
   "cell_type": "code",
   "execution_count": 34,
   "metadata": {},
   "outputs": [],
   "source": [
    "purchase_details_col = list(map(lambda s: \" \".join(s.split(\"\\n\")), purchase_details_doc[0].find_tables()[0].extract()[0]))\n",
    "purchase_details =  pd.DataFrame(columns=purchase_details_col)\n",
    "\n",
    "redemption_details_col = list(map(lambda s: \" \".join(s.split(\"\\n\")), redemption_details_doc[0].find_tables()[0].extract()[0]))\n",
    "redemption_details = pd.DataFrame(columns=redemption_details_col)"
   ]
  },
  {
   "cell_type": "markdown",
   "metadata": {},
   "source": [
    "### looping through each page in each doc, using `find_tables()` to get the tables and then concat each row in the table to the previously created dataframe via a for loop"
   ]
  },
  {
   "cell_type": "code",
   "execution_count": 35,
   "metadata": {},
   "outputs": [],
   "source": [
    "for page in purchase_details_doc:\n",
    "    tabs = page.find_tables()\n",
    "    if tabs.tables:\n",
    "        for row in tabs[0].extract()[1:]:\n",
    "            temp = pd.DataFrame([row], columns=purchase_details_col)\n",
    "            purchase_details=pd.concat([purchase_details, temp], ignore_index = True)\n",
    "\n",
    "for page in redemption_details_doc:\n",
    "    tabs = page.find_tables()\n",
    "    if tabs.tables:\n",
    "        for row in tabs[0].extract()[1:]:\n",
    "            temp = pd.DataFrame([row], columns=redemption_details_col)\n",
    "            redemption_details=pd.concat([redemption_details, temp], ignore_index = True)"
   ]
  },
  {
   "cell_type": "markdown",
   "metadata": {},
   "source": [
    "### save the dataframes as csv files"
   ]
  },
  {
   "cell_type": "code",
   "execution_count": 38,
   "metadata": {},
   "outputs": [],
   "source": [
    "purchase_details.to_csv('purchase_details.csv', header=True, index=False)\n",
    "redemption_details.to_csv('redemption_details.csv', header=True, index=False)"
   ]
  }
 ],
 "metadata": {
  "kernelspec": {
   "display_name": "Python 3",
   "language": "python",
   "name": "python3"
  },
  "language_info": {
   "codemirror_mode": {
    "name": "ipython",
    "version": 3
   },
   "file_extension": ".py",
   "mimetype": "text/x-python",
   "name": "python",
   "nbconvert_exporter": "python",
   "pygments_lexer": "ipython3",
   "version": "3.12.3"
  }
 },
 "nbformat": 4,
 "nbformat_minor": 2
}
