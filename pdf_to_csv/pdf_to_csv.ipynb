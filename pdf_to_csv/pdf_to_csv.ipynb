{
 "cells": [
  {
   "cell_type": "markdown",
   "metadata": {},
   "source": [
    "# Converting the pdf files to csv"
   ]
  },
  {
   "cell_type": "markdown",
   "metadata": {},
   "source": [
    "### Importing the necessary libraries"
   ]
  },
  {
   "cell_type": "code",
   "execution_count": 16,
   "metadata": {},
   "outputs": [],
   "source": [
    "import fitz\n",
    "import pandas as pd"
   ]
  },
  {
   "cell_type": "markdown",
   "metadata": {},
   "source": [
    "### using fitz to open the two given pdfs"
   ]
  },
  {
   "cell_type": "code",
   "execution_count": 17,
   "metadata": {},
   "outputs": [],
   "source": [
    "purchase_details_doc = fitz.open('EB_Purchase_Details.pdf')\n",
    "redemption_details_doc = fitz.open('EB_Redemption_Details.pdf')"
   ]
  },
  {
   "cell_type": "markdown",
   "metadata": {},
   "source": [
    "### creating an empty dataframe to store the data from the tables in the two pdfs"
   ]
  },
  {
   "cell_type": "code",
   "execution_count": 18,
   "metadata": {},
   "outputs": [],
   "source": [
    "purchase_details_col = list(map(lambda s: \" \".join(s.split(\"\\n\")), purchase_details_doc[0].find_tables()[0].extract()[0]))\n",
    "purchase_details =  pd.DataFrame(columns=purchase_details_col)\n",
    "\n",
    "redemption_details_col = list(map(lambda s: \" \".join(s.split(\"\\n\")), redemption_details_doc[0].find_tables()[0].extract()[0]))\n",
    "redemption_details = pd.DataFrame(columns=redemption_details_col)"
   ]
  },
  {
   "cell_type": "markdown",
   "metadata": {},
   "source": [
    "### looping through each page in each doc, using `find_tables()` to get the tables and then concat each row in the table to the previously created dataframe via a for loop"
   ]
  },
  {
   "cell_type": "code",
   "execution_count": 19,
   "metadata": {},
   "outputs": [],
   "source": [
    "for page in purchase_details_doc:\n",
    "    tabs = page.find_tables()\n",
    "    if tabs.tables:\n",
    "        for row in tabs[0].extract()[1:]:\n",
    "            temp = pd.DataFrame([row], columns=purchase_details_col)\n",
    "            purchase_details=pd.concat([purchase_details, temp], ignore_index = True)\n",
    "\n",
    "for page in redemption_details_doc:\n",
    "    tabs = page.find_tables()\n",
    "    if tabs.tables:\n",
    "        for row in tabs[0].extract()[1:]:\n",
    "            temp = pd.DataFrame([row], columns=redemption_details_col)\n",
    "            redemption_details=pd.concat([redemption_details, temp], ignore_index = True)"
   ]
  },
  {
   "cell_type": "markdown",
   "metadata": {},
   "source": [
    "### fixing the date formats"
   ]
  },
  {
   "cell_type": "code",
   "execution_count": 20,
   "metadata": {},
   "outputs": [],
   "source": [
    "original_format = \"%d/%b/%Y\"\n",
    "desired_format = \"%d/%m/%Y\""
   ]
  },
  {
   "cell_type": "code",
   "execution_count": 21,
   "metadata": {},
   "outputs": [
    {
     "data": {
      "text/html": [
       "<div>\n",
       "<style scoped>\n",
       "    .dataframe tbody tr th:only-of-type {\n",
       "        vertical-align: middle;\n",
       "    }\n",
       "\n",
       "    .dataframe tbody tr th {\n",
       "        vertical-align: top;\n",
       "    }\n",
       "\n",
       "    .dataframe thead th {\n",
       "        text-align: right;\n",
       "    }\n",
       "</style>\n",
       "<table border=\"1\" class=\"dataframe\">\n",
       "  <thead>\n",
       "    <tr style=\"text-align: right;\">\n",
       "      <th></th>\n",
       "      <th>Journal Date</th>\n",
       "      <th>Date of Purchase</th>\n",
       "      <th>Date of Expiry</th>\n",
       "    </tr>\n",
       "  </thead>\n",
       "  <tbody>\n",
       "    <tr>\n",
       "      <th>0</th>\n",
       "      <td>12/Apr/2019</td>\n",
       "      <td>12/Apr/2019</td>\n",
       "      <td>26/Apr/2019</td>\n",
       "    </tr>\n",
       "    <tr>\n",
       "      <th>1</th>\n",
       "      <td>12/Apr/2019</td>\n",
       "      <td>12/Apr/2019</td>\n",
       "      <td>26/Apr/2019</td>\n",
       "    </tr>\n",
       "    <tr>\n",
       "      <th>2</th>\n",
       "      <td>12/Apr/2019</td>\n",
       "      <td>12/Apr/2019</td>\n",
       "      <td>26/Apr/2019</td>\n",
       "    </tr>\n",
       "    <tr>\n",
       "      <th>3</th>\n",
       "      <td>12/Apr/2019</td>\n",
       "      <td>12/Apr/2019</td>\n",
       "      <td>26/Apr/2019</td>\n",
       "    </tr>\n",
       "    <tr>\n",
       "      <th>4</th>\n",
       "      <td>12/Apr/2019</td>\n",
       "      <td>12/Apr/2019</td>\n",
       "      <td>26/Apr/2019</td>\n",
       "    </tr>\n",
       "    <tr>\n",
       "      <th>...</th>\n",
       "      <td>...</td>\n",
       "      <td>...</td>\n",
       "      <td>...</td>\n",
       "    </tr>\n",
       "    <tr>\n",
       "      <th>18866</th>\n",
       "      <td>11/Jan/2024</td>\n",
       "      <td>11/Jan/2024</td>\n",
       "      <td>25/Jan/2024</td>\n",
       "    </tr>\n",
       "    <tr>\n",
       "      <th>18867</th>\n",
       "      <td>11/Jan/2024</td>\n",
       "      <td>11/Jan/2024</td>\n",
       "      <td>25/Jan/2024</td>\n",
       "    </tr>\n",
       "    <tr>\n",
       "      <th>18868</th>\n",
       "      <td>11/Jan/2024</td>\n",
       "      <td>11/Jan/2024</td>\n",
       "      <td>25/Jan/2024</td>\n",
       "    </tr>\n",
       "    <tr>\n",
       "      <th>18869</th>\n",
       "      <td>11/Jan/2024</td>\n",
       "      <td>11/Jan/2024</td>\n",
       "      <td>25/Jan/2024</td>\n",
       "    </tr>\n",
       "    <tr>\n",
       "      <th>18870</th>\n",
       "      <td>11/Jan/2024</td>\n",
       "      <td>11/Jan/2024</td>\n",
       "      <td>25/Jan/2024</td>\n",
       "    </tr>\n",
       "  </tbody>\n",
       "</table>\n",
       "<p>18871 rows × 3 columns</p>\n",
       "</div>"
      ],
      "text/plain": [
       "      Journal Date Date of Purchase Date of Expiry\n",
       "0      12/Apr/2019      12/Apr/2019    26/Apr/2019\n",
       "1      12/Apr/2019      12/Apr/2019    26/Apr/2019\n",
       "2      12/Apr/2019      12/Apr/2019    26/Apr/2019\n",
       "3      12/Apr/2019      12/Apr/2019    26/Apr/2019\n",
       "4      12/Apr/2019      12/Apr/2019    26/Apr/2019\n",
       "...            ...              ...            ...\n",
       "18866  11/Jan/2024      11/Jan/2024    25/Jan/2024\n",
       "18867  11/Jan/2024      11/Jan/2024    25/Jan/2024\n",
       "18868  11/Jan/2024      11/Jan/2024    25/Jan/2024\n",
       "18869  11/Jan/2024      11/Jan/2024    25/Jan/2024\n",
       "18870  11/Jan/2024      11/Jan/2024    25/Jan/2024\n",
       "\n",
       "[18871 rows x 3 columns]"
      ]
     },
     "execution_count": 21,
     "metadata": {},
     "output_type": "execute_result"
    }
   ],
   "source": [
    "purchase_details[[\"Journal Date\", \"Date of Purchase\", \"Date of Expiry\"]]"
   ]
  },
  {
   "cell_type": "code",
   "execution_count": 22,
   "metadata": {},
   "outputs": [],
   "source": [
    "for col in [\"Journal Date\", \"Date of Purchase\", \"Date of Expiry\"]:\n",
    "    purchase_details[col] = pd.to_datetime(purchase_details[col])\n",
    "    purchase_details[col] = purchase_details[col].dt.strftime(desired_format)"
   ]
  },
  {
   "cell_type": "code",
   "execution_count": 23,
   "metadata": {},
   "outputs": [
    {
     "data": {
      "text/html": [
       "<div>\n",
       "<style scoped>\n",
       "    .dataframe tbody tr th:only-of-type {\n",
       "        vertical-align: middle;\n",
       "    }\n",
       "\n",
       "    .dataframe tbody tr th {\n",
       "        vertical-align: top;\n",
       "    }\n",
       "\n",
       "    .dataframe thead th {\n",
       "        text-align: right;\n",
       "    }\n",
       "</style>\n",
       "<table border=\"1\" class=\"dataframe\">\n",
       "  <thead>\n",
       "    <tr style=\"text-align: right;\">\n",
       "      <th></th>\n",
       "      <th>Journal Date</th>\n",
       "      <th>Date of Purchase</th>\n",
       "      <th>Date of Expiry</th>\n",
       "    </tr>\n",
       "  </thead>\n",
       "  <tbody>\n",
       "    <tr>\n",
       "      <th>0</th>\n",
       "      <td>12/04/2019</td>\n",
       "      <td>12/04/2019</td>\n",
       "      <td>26/04/2019</td>\n",
       "    </tr>\n",
       "    <tr>\n",
       "      <th>1</th>\n",
       "      <td>12/04/2019</td>\n",
       "      <td>12/04/2019</td>\n",
       "      <td>26/04/2019</td>\n",
       "    </tr>\n",
       "    <tr>\n",
       "      <th>2</th>\n",
       "      <td>12/04/2019</td>\n",
       "      <td>12/04/2019</td>\n",
       "      <td>26/04/2019</td>\n",
       "    </tr>\n",
       "    <tr>\n",
       "      <th>3</th>\n",
       "      <td>12/04/2019</td>\n",
       "      <td>12/04/2019</td>\n",
       "      <td>26/04/2019</td>\n",
       "    </tr>\n",
       "    <tr>\n",
       "      <th>4</th>\n",
       "      <td>12/04/2019</td>\n",
       "      <td>12/04/2019</td>\n",
       "      <td>26/04/2019</td>\n",
       "    </tr>\n",
       "    <tr>\n",
       "      <th>...</th>\n",
       "      <td>...</td>\n",
       "      <td>...</td>\n",
       "      <td>...</td>\n",
       "    </tr>\n",
       "    <tr>\n",
       "      <th>18866</th>\n",
       "      <td>11/01/2024</td>\n",
       "      <td>11/01/2024</td>\n",
       "      <td>25/01/2024</td>\n",
       "    </tr>\n",
       "    <tr>\n",
       "      <th>18867</th>\n",
       "      <td>11/01/2024</td>\n",
       "      <td>11/01/2024</td>\n",
       "      <td>25/01/2024</td>\n",
       "    </tr>\n",
       "    <tr>\n",
       "      <th>18868</th>\n",
       "      <td>11/01/2024</td>\n",
       "      <td>11/01/2024</td>\n",
       "      <td>25/01/2024</td>\n",
       "    </tr>\n",
       "    <tr>\n",
       "      <th>18869</th>\n",
       "      <td>11/01/2024</td>\n",
       "      <td>11/01/2024</td>\n",
       "      <td>25/01/2024</td>\n",
       "    </tr>\n",
       "    <tr>\n",
       "      <th>18870</th>\n",
       "      <td>11/01/2024</td>\n",
       "      <td>11/01/2024</td>\n",
       "      <td>25/01/2024</td>\n",
       "    </tr>\n",
       "  </tbody>\n",
       "</table>\n",
       "<p>18871 rows × 3 columns</p>\n",
       "</div>"
      ],
      "text/plain": [
       "      Journal Date Date of Purchase Date of Expiry\n",
       "0       12/04/2019       12/04/2019     26/04/2019\n",
       "1       12/04/2019       12/04/2019     26/04/2019\n",
       "2       12/04/2019       12/04/2019     26/04/2019\n",
       "3       12/04/2019       12/04/2019     26/04/2019\n",
       "4       12/04/2019       12/04/2019     26/04/2019\n",
       "...            ...              ...            ...\n",
       "18866   11/01/2024       11/01/2024     25/01/2024\n",
       "18867   11/01/2024       11/01/2024     25/01/2024\n",
       "18868   11/01/2024       11/01/2024     25/01/2024\n",
       "18869   11/01/2024       11/01/2024     25/01/2024\n",
       "18870   11/01/2024       11/01/2024     25/01/2024\n",
       "\n",
       "[18871 rows x 3 columns]"
      ]
     },
     "execution_count": 23,
     "metadata": {},
     "output_type": "execute_result"
    }
   ],
   "source": [
    "purchase_details[[\"Journal Date\", \"Date of Purchase\", \"Date of Expiry\"]]"
   ]
  },
  {
   "cell_type": "code",
   "execution_count": 24,
   "metadata": {},
   "outputs": [
    {
     "data": {
      "text/html": [
       "<div>\n",
       "<style scoped>\n",
       "    .dataframe tbody tr th:only-of-type {\n",
       "        vertical-align: middle;\n",
       "    }\n",
       "\n",
       "    .dataframe tbody tr th {\n",
       "        vertical-align: top;\n",
       "    }\n",
       "\n",
       "    .dataframe thead th {\n",
       "        text-align: right;\n",
       "    }\n",
       "</style>\n",
       "<table border=\"1\" class=\"dataframe\">\n",
       "  <thead>\n",
       "    <tr style=\"text-align: right;\">\n",
       "      <th></th>\n",
       "      <th>Date of Encashment</th>\n",
       "    </tr>\n",
       "  </thead>\n",
       "  <tbody>\n",
       "    <tr>\n",
       "      <th>0</th>\n",
       "      <td>12/Apr/2019</td>\n",
       "    </tr>\n",
       "    <tr>\n",
       "      <th>1</th>\n",
       "      <td>12/Apr/2019</td>\n",
       "    </tr>\n",
       "    <tr>\n",
       "      <th>2</th>\n",
       "      <td>12/Apr/2019</td>\n",
       "    </tr>\n",
       "    <tr>\n",
       "      <th>3</th>\n",
       "      <td>12/Apr/2019</td>\n",
       "    </tr>\n",
       "    <tr>\n",
       "      <th>4</th>\n",
       "      <td>12/Apr/2019</td>\n",
       "    </tr>\n",
       "    <tr>\n",
       "      <th>...</th>\n",
       "      <td>...</td>\n",
       "    </tr>\n",
       "    <tr>\n",
       "      <th>20416</th>\n",
       "      <td>24/Jan/2024</td>\n",
       "    </tr>\n",
       "    <tr>\n",
       "      <th>20417</th>\n",
       "      <td>24/Jan/2024</td>\n",
       "    </tr>\n",
       "    <tr>\n",
       "      <th>20418</th>\n",
       "      <td>24/Jan/2024</td>\n",
       "    </tr>\n",
       "    <tr>\n",
       "      <th>20419</th>\n",
       "      <td>24/Jan/2024</td>\n",
       "    </tr>\n",
       "    <tr>\n",
       "      <th>20420</th>\n",
       "      <td>24/Jan/2024</td>\n",
       "    </tr>\n",
       "  </tbody>\n",
       "</table>\n",
       "<p>20421 rows × 1 columns</p>\n",
       "</div>"
      ],
      "text/plain": [
       "      Date of Encashment\n",
       "0            12/Apr/2019\n",
       "1            12/Apr/2019\n",
       "2            12/Apr/2019\n",
       "3            12/Apr/2019\n",
       "4            12/Apr/2019\n",
       "...                  ...\n",
       "20416        24/Jan/2024\n",
       "20417        24/Jan/2024\n",
       "20418        24/Jan/2024\n",
       "20419        24/Jan/2024\n",
       "20420        24/Jan/2024\n",
       "\n",
       "[20421 rows x 1 columns]"
      ]
     },
     "execution_count": 24,
     "metadata": {},
     "output_type": "execute_result"
    }
   ],
   "source": [
    "redemption_details[[\"Date of Encashment\"]]"
   ]
  },
  {
   "cell_type": "code",
   "execution_count": 25,
   "metadata": {},
   "outputs": [],
   "source": [
    "redemption_details[\"Date of Encashment\"] = pd.to_datetime(redemption_details[\"Date of Encashment\"])\n",
    "redemption_details[\"Date of Encashment\"] = redemption_details[\"Date of Encashment\"].dt.strftime(desired_format)"
   ]
  },
  {
   "cell_type": "code",
   "execution_count": 26,
   "metadata": {},
   "outputs": [
    {
     "data": {
      "text/html": [
       "<div>\n",
       "<style scoped>\n",
       "    .dataframe tbody tr th:only-of-type {\n",
       "        vertical-align: middle;\n",
       "    }\n",
       "\n",
       "    .dataframe tbody tr th {\n",
       "        vertical-align: top;\n",
       "    }\n",
       "\n",
       "    .dataframe thead th {\n",
       "        text-align: right;\n",
       "    }\n",
       "</style>\n",
       "<table border=\"1\" class=\"dataframe\">\n",
       "  <thead>\n",
       "    <tr style=\"text-align: right;\">\n",
       "      <th></th>\n",
       "      <th>Date of Encashment</th>\n",
       "    </tr>\n",
       "  </thead>\n",
       "  <tbody>\n",
       "    <tr>\n",
       "      <th>0</th>\n",
       "      <td>12/04/2019</td>\n",
       "    </tr>\n",
       "    <tr>\n",
       "      <th>1</th>\n",
       "      <td>12/04/2019</td>\n",
       "    </tr>\n",
       "    <tr>\n",
       "      <th>2</th>\n",
       "      <td>12/04/2019</td>\n",
       "    </tr>\n",
       "    <tr>\n",
       "      <th>3</th>\n",
       "      <td>12/04/2019</td>\n",
       "    </tr>\n",
       "    <tr>\n",
       "      <th>4</th>\n",
       "      <td>12/04/2019</td>\n",
       "    </tr>\n",
       "    <tr>\n",
       "      <th>...</th>\n",
       "      <td>...</td>\n",
       "    </tr>\n",
       "    <tr>\n",
       "      <th>20416</th>\n",
       "      <td>24/01/2024</td>\n",
       "    </tr>\n",
       "    <tr>\n",
       "      <th>20417</th>\n",
       "      <td>24/01/2024</td>\n",
       "    </tr>\n",
       "    <tr>\n",
       "      <th>20418</th>\n",
       "      <td>24/01/2024</td>\n",
       "    </tr>\n",
       "    <tr>\n",
       "      <th>20419</th>\n",
       "      <td>24/01/2024</td>\n",
       "    </tr>\n",
       "    <tr>\n",
       "      <th>20420</th>\n",
       "      <td>24/01/2024</td>\n",
       "    </tr>\n",
       "  </tbody>\n",
       "</table>\n",
       "<p>20421 rows × 1 columns</p>\n",
       "</div>"
      ],
      "text/plain": [
       "      Date of Encashment\n",
       "0             12/04/2019\n",
       "1             12/04/2019\n",
       "2             12/04/2019\n",
       "3             12/04/2019\n",
       "4             12/04/2019\n",
       "...                  ...\n",
       "20416         24/01/2024\n",
       "20417         24/01/2024\n",
       "20418         24/01/2024\n",
       "20419         24/01/2024\n",
       "20420         24/01/2024\n",
       "\n",
       "[20421 rows x 1 columns]"
      ]
     },
     "execution_count": 26,
     "metadata": {},
     "output_type": "execute_result"
    }
   ],
   "source": [
    "redemption_details[[\"Date of Encashment\"]]"
   ]
  },
  {
   "cell_type": "markdown",
   "metadata": {},
   "source": [
    "### save the dataframes as csv files"
   ]
  },
  {
   "cell_type": "code",
   "execution_count": 27,
   "metadata": {},
   "outputs": [],
   "source": [
    "purchase_details.to_csv('purchase_details.csv', header=True, index=False)\n",
    "redemption_details.to_csv('redemption_details.csv', header=True, index=False)"
   ]
  }
 ],
 "metadata": {
  "kernelspec": {
   "display_name": "Python 3",
   "language": "python",
   "name": "python3"
  },
  "language_info": {
   "codemirror_mode": {
    "name": "ipython",
    "version": 3
   },
   "file_extension": ".py",
   "mimetype": "text/x-python",
   "name": "python",
   "nbconvert_exporter": "python",
   "pygments_lexer": "ipython3",
   "version": "3.12.3"
  }
 },
 "nbformat": 4,
 "nbformat_minor": 2
}
